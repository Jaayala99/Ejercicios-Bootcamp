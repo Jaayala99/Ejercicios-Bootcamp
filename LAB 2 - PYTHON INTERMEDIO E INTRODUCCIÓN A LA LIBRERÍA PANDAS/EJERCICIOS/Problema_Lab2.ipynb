{
 "cells": [
  {
   "cell_type": "code",
   "execution_count": 1,
   "metadata": {},
   "outputs": [],
   "source": [
    "import pandas as pd \n",
    "import numpy as np\n",
    "import matplotlib.pyplot as plt"
   ]
  },
  {
   "cell_type": "code",
   "execution_count": 2,
   "metadata": {},
   "outputs": [
    {
     "data": {
      "text/html": [
       "<div>\n",
       "<style scoped>\n",
       "    .dataframe tbody tr th:only-of-type {\n",
       "        vertical-align: middle;\n",
       "    }\n",
       "\n",
       "    .dataframe tbody tr th {\n",
       "        vertical-align: top;\n",
       "    }\n",
       "\n",
       "    .dataframe thead th {\n",
       "        text-align: right;\n",
       "    }\n",
       "</style>\n",
       "<table border=\"1\" class=\"dataframe\">\n",
       "  <thead>\n",
       "    <tr style=\"text-align: right;\">\n",
       "      <th></th>\n",
       "      <th>id_producto</th>\n",
       "      <th>ventas_unidades</th>\n",
       "      <th>precio</th>\n",
       "    </tr>\n",
       "  </thead>\n",
       "  <tbody>\n",
       "    <tr>\n",
       "      <th>0</th>\n",
       "      <td>17</td>\n",
       "      <td>998119</td>\n",
       "      <td>1.493301</td>\n",
       "    </tr>\n",
       "    <tr>\n",
       "      <th>1</th>\n",
       "      <td>101</td>\n",
       "      <td>27127</td>\n",
       "      <td>3.848544</td>\n",
       "    </tr>\n",
       "    <tr>\n",
       "      <th>2</th>\n",
       "      <td>240</td>\n",
       "      <td>202538</td>\n",
       "      <td>2.406505</td>\n",
       "    </tr>\n",
       "    <tr>\n",
       "      <th>3</th>\n",
       "      <td>402</td>\n",
       "      <td>266723</td>\n",
       "      <td>2.989612</td>\n",
       "    </tr>\n",
       "    <tr>\n",
       "      <th>4</th>\n",
       "      <td>999</td>\n",
       "      <td>20468</td>\n",
       "      <td>1.859808</td>\n",
       "    </tr>\n",
       "    <tr>\n",
       "      <th>5</th>\n",
       "      <td>2033</td>\n",
       "      <td>209155</td>\n",
       "      <td>2.489806</td>\n",
       "    </tr>\n",
       "    <tr>\n",
       "      <th>6</th>\n",
       "      <td>3636</td>\n",
       "      <td>32070</td>\n",
       "      <td>2.601165</td>\n",
       "    </tr>\n",
       "    <tr>\n",
       "      <th>7</th>\n",
       "      <td>4468</td>\n",
       "      <td>14473</td>\n",
       "      <td>2.598462</td>\n",
       "    </tr>\n",
       "    <tr>\n",
       "      <th>8</th>\n",
       "      <td>4577</td>\n",
       "      <td>130704</td>\n",
       "      <td>5.158462</td>\n",
       "    </tr>\n",
       "    <tr>\n",
       "      <th>9</th>\n",
       "      <td>4758</td>\n",
       "      <td>449007</td>\n",
       "      <td>5.031154</td>\n",
       "    </tr>\n",
       "    <tr>\n",
       "      <th>10</th>\n",
       "      <td>5019</td>\n",
       "      <td>17401</td>\n",
       "      <td>2.504175</td>\n",
       "    </tr>\n",
       "    <tr>\n",
       "      <th>11</th>\n",
       "      <td>5684</td>\n",
       "      <td>45269</td>\n",
       "      <td>3.717864</td>\n",
       "    </tr>\n",
       "    <tr>\n",
       "      <th>12</th>\n",
       "      <td>6525</td>\n",
       "      <td>62213</td>\n",
       "      <td>2.357885</td>\n",
       "    </tr>\n",
       "    <tr>\n",
       "      <th>13</th>\n",
       "      <td>7118</td>\n",
       "      <td>4051</td>\n",
       "      <td>2.392222</td>\n",
       "    </tr>\n",
       "    <tr>\n",
       "      <th>14</th>\n",
       "      <td>8689</td>\n",
       "      <td>689257</td>\n",
       "      <td>2.552039</td>\n",
       "    </tr>\n",
       "    <tr>\n",
       "      <th>15</th>\n",
       "      <td>9134</td>\n",
       "      <td>679493</td>\n",
       "      <td>2.391456</td>\n",
       "    </tr>\n",
       "  </tbody>\n",
       "</table>\n",
       "</div>"
      ],
      "text/plain": [
       "    id_producto  ventas_unidades    precio\n",
       "0            17           998119  1.493301\n",
       "1           101            27127  3.848544\n",
       "2           240           202538  2.406505\n",
       "3           402           266723  2.989612\n",
       "4           999            20468  1.859808\n",
       "5          2033           209155  2.489806\n",
       "6          3636            32070  2.601165\n",
       "7          4468            14473  2.598462\n",
       "8          4577           130704  5.158462\n",
       "9          4758           449007  5.031154\n",
       "10         5019            17401  2.504175\n",
       "11         5684            45269  3.717864\n",
       "12         6525            62213  2.357885\n",
       "13         7118             4051  2.392222\n",
       "14         8689           689257  2.552039\n",
       "15         9134           679493  2.391456"
      ]
     },
     "execution_count": 2,
     "metadata": {},
     "output_type": "execute_result"
    }
   ],
   "source": [
    "dataset_helados = pd.read_csv('ventas_por_helado.csv')\n",
    "dataset_helados"
   ]
  },
  {
   "cell_type": "markdown",
   "metadata": {},
   "source": [
    "### Helados por sabor"
   ]
  },
  {
   "cell_type": "markdown",
   "metadata": {},
   "source": [
    "La empresa _Ice Cream Avenue_ desea realizar un seguimiento de los sabores de helado más populares para un cliente. \n",
    "Se te proporciona una lista de pedidos, donde cada pedido es una lista con tuplas con el sabor del helado y la cantidad solicitada. \n",
    "* En el primer pedido se piden 3 helados de chocolate, 2 de vainilla y 4 de fresa\n",
    "* En el segundo pedido se pide 1 helado de chocolate, 2 de yogur y 3 de fresa\n",
    "* En el tercer pedido se piden 2 helados de yogur y 2 de mango\n",
    "\n",
    "Concatena las listas, y escribe una función que, en base a esa lista total, genere un diccionario que muestre la cantidad total de helados pedidos para cada sabor."
   ]
  },
  {
   "cell_type": "code",
   "execution_count": 3,
   "metadata": {},
   "outputs": [
    {
     "name": "stdout",
     "output_type": "stream",
     "text": [
      "Esta e la lista de pedidos total : [('chocolate', 3), ('vainilla', 2), ('fresa', 4), ('chocolate', 1), ('yogur', 2), ('fresa', 3), ('yogur', 2), ('mango', 2)]\n",
      "Este es el diccionario generado :  {'chocolate': 4, 'vainilla': 2, 'fresa': 7, 'yogur': 4, 'mango': 2}\n"
     ]
    }
   ],
   "source": [
    "primer_pedido = [('chocolate',3),('vainilla',2),('fresa',4)]\n",
    "segundo_pedido = [('chocolate',1),('yogur',2),('fresa',3)]\n",
    "tercer_pedido = [('yogur',2),('mango',2)]\n",
    "\n",
    "pedidos_total = primer_pedido + segundo_pedido + tercer_pedido\n",
    "\n",
    "print(f'Esta e la lista de pedidos total :',pedidos_total)\n",
    "\n",
    "def pedidos_to_dict(list) :\n",
    "    diccionario = {}\n",
    "    for sabores in list :\n",
    "        sabor,cantidad = sabores\n",
    "        if sabor in diccionario:\n",
    "            diccionario[sabor]+=cantidad\n",
    "        else:\n",
    "            diccionario[sabor]=cantidad\n",
    "    return diccionario\n",
    "\n",
    "print(f'Este es el diccionario generado : ',pedidos_to_dict(pedidos_total))"
   ]
  },
  {
   "cell_type": "markdown",
   "metadata": {},
   "source": [
    "### Descuentos en helados "
   ]
  },
  {
   "cell_type": "markdown",
   "metadata": {},
   "source": [
    "Partiendo de los sabores del ejercicio anterior, generar una lista de precios, donde el precio de cada sabor sea 0.2€ por cada letra que contenga, y con un descuento del 20% para los helados cuyo nombre empiece con la letra \"c\"."
   ]
  },
  {
   "cell_type": "code",
   "execution_count": 4,
   "metadata": {},
   "outputs": [
    {
     "name": "stdout",
     "output_type": "stream",
     "text": [
      "{'chocolate': 1.44, 'vainilla': 1.6, 'fresa': 1.0, 'yogur': 1.0, 'mango': 1.0}\n"
     ]
    }
   ],
   "source": [
    "diccionario_sabores = ['chocolate','vainilla','fresa','yogur','mango']\n",
    "\n",
    "def dict_precios(list):\n",
    "    diccionario_precios ={} \n",
    "    for elements in list: \n",
    "        numero_letras = 0\n",
    "        for letras in elements:\n",
    "            numero_letras+=1 \n",
    "            precio = numero_letras*0.2\n",
    "        if elements[0] == 'c' or elements[0] == 'C':\n",
    "            descuento = (precio*20)/100 \n",
    "            diccionario_precios[elements] = precio-descuento\n",
    "        else:\n",
    "            diccionario_precios[elements] = precio\n",
    "    return diccionario_precios\n",
    "         \n",
    "print(dict_precios(diccionario_sabores))"
   ]
  },
  {
   "cell_type": "markdown",
   "metadata": {},
   "source": [
    "### El helado más caro"
   ]
  },
  {
   "cell_type": "markdown",
   "metadata": {},
   "source": [
    "A partir del diccionario del ejercicio anterior con precios de helados y un presupuesto dado, crea una función que devuelva el helado más caro cubierto por el presupuesto.\n",
    "\n",
    "Resuélvelo primero con python base, y después utilizando Series de pandas"
   ]
  },
  {
   "cell_type": "code",
   "execution_count": 5,
   "metadata": {},
   "outputs": [
    {
     "data": {
      "text/plain": [
       "sabor     yogur\n",
       "precio      1.6\n",
       "dtype: object"
      ]
     },
     "execution_count": 5,
     "metadata": {},
     "output_type": "execute_result"
    }
   ],
   "source": [
    "#Python base\n",
    "sabores_precios = {'chocolate': 1.44, 'vainilla': 1.6, 'fresa': 1.0, 'yogur': 1.0, 'mango': 1.0}  \n",
    "\n",
    "def mas_caro(dict):\n",
    "    precio_maximo = 0\n",
    "    sabor_helado = ''\n",
    "    for helado,precio in dict.items():\n",
    "        if precio>precio_maximo:\n",
    "            precio_maximo=precio\n",
    "            sabor_helado=helado\n",
    "    return (f'El helado mas caro es {sabor_helado} y su precio es de {precio_maximo}')\n",
    "        \n",
    "    \n",
    "\n",
    "mas_caro(sabores_precios)\n",
    "\n",
    "#Pandas\n",
    "df_helados = pd.DataFrame({\n",
    "    'sabor' : ['chocolate', 'vainilla', 'fresa', 'yogur', 'mango'],\n",
    "    'precio': [1.44,1.6,1.0,1.0,1.0]\n",
    "})\n",
    "\n",
    "df_helados.max()\n"
   ]
  },
  {
   "cell_type": "markdown",
   "metadata": {},
   "source": [
    "### Ventas aleatorias"
   ]
  },
  {
   "cell_type": "markdown",
   "metadata": {},
   "source": [
    "Crea un array bidimensional en numpy donde la dimensión de filas sea el número de tiendas (5) y las columnas los días de la semana. Los datos deben obtenerse a partir de una distribución aleatoria de números enteros, que puede ir desde 0 hasta 100 (sin incluir). Asegúrate de que el ejemplo sea reproducible, fijando como semilla el número 42"
   ]
  },
  {
   "cell_type": "code",
   "execution_count": 6,
   "metadata": {},
   "outputs": [
    {
     "name": "stdout",
     "output_type": "stream",
     "text": [
      "           Tienda 1  Tienda 2  Tienda 3  Tienda 4  Tienda 5\n",
      "Lunes            23         0        49        91        32\n",
      "Martes           20        85        91        94        74\n",
      "Miercoles        72        56        47        80        13\n",
      "Jueves           99        30        50         5        38\n",
      "Viernes          59        43        46        10        52\n",
      "Sabado           87        27        13        29         4\n",
      "Domingo          53        48        15        10        99\n"
     ]
    }
   ],
   "source": [
    "np.random.seed()\n",
    "\n",
    "num_tiendas = 5\n",
    "dias_semana = 7\n",
    "\n",
    "# Generar datos aleatorios para las tiendas\n",
    "array_ventas = np.random.randint(0, 100, size=(dias_semana, num_tiendas))\n",
    "\n",
    "\n",
    "df_ventas = pd.DataFrame(array_ventas, columns=['Tienda 1','Tienda 2','Tienda 3','Tienda 4','Tienda 5'])\n",
    "df_ventas.index = (['Lunes','Martes','Miercoles','Jueves','Viernes','Sabado','Domingo'])\n",
    "\n",
    "# Mostrar el DataFrame\n",
    "print(df_ventas)"
   ]
  },
  {
   "cell_type": "markdown",
   "metadata": {},
   "source": [
    "### Llegando a 200 ventas"
   ]
  },
  {
   "cell_type": "markdown",
   "metadata": {},
   "source": [
    "Calcula el dia de la semana en que cada tienda alcanza las 200 ventas acumuladas a lo largo de la semana"
   ]
  },
  {
   "cell_type": "code",
   "execution_count": 7,
   "metadata": {},
   "outputs": [
    {
     "name": "stdout",
     "output_type": "stream",
     "text": [
      "Las ventas no han alcanzado 200 para la tienda Tienda 1\n",
      "Las ventas no han alcanzado 200 para la tienda Tienda 2\n",
      "Las ventas no han alcanzado 200 para la tienda Tienda 3\n",
      "Las ventas han alcanzado 200 en el día Miercoles para la tienda Tienda 4\n",
      "Las ventas han alcanzado 200 en el día Viernes para la tienda Tienda 5\n"
     ]
    }
   ],
   "source": [
    "contador = 0\n",
    "for tienda in df_ventas.columns:\n",
    "    contador += df_ventas[tienda]\n",
    "    if (contador >= 200).any() :\n",
    "        indice = contador[contador >= 200].idxmin()\n",
    "        print(f'Las ventas han alcanzado 200 en el día {indice} para la tienda {tienda}')\n",
    "    else :\n",
    "        print(f'Las ventas no han alcanzado 200 para la tienda {tienda}')\n",
    "\n",
    "        \n",
    "      \n",
    "    \n",
    "\n",
    "\n"
   ]
  },
  {
   "cell_type": "markdown",
   "metadata": {},
   "source": [
    "### Beneficio positivo"
   ]
  },
  {
   "cell_type": "markdown",
   "metadata": {},
   "source": [
    "Crea otro array con la misma forma que el de ventas que se llame costes, y el valor constante 40. Resta ambos arrays para obtener un array que se llame beneficio, y calcula el beneficio sumado de las tiendas que tengan beneficio total positivo."
   ]
  },
  {
   "cell_type": "code",
   "execution_count": 8,
   "metadata": {},
   "outputs": [
    {
     "name": "stdout",
     "output_type": "stream",
     "text": [
      "           Tienda 1  Tienda 2  Tienda 3  Tienda 4  Tienda 5\n",
      "Lunes            40        40        40        40        40\n",
      "Martes           40        40        40        40        40\n",
      "Miercoles        40        40        40        40        40\n",
      "Jueves           40        40        40        40        40\n",
      "Viernes          40        40        40        40        40\n",
      "Sabado           40        40        40        40        40\n",
      "Domingo          40        40        40        40        40\n"
     ]
    }
   ],
   "source": [
    "array_costes = np.full_like(array_ventas, 40)\n",
    "df_costes = pd.DataFrame(array_costes,columns=['Tienda 1','Tienda 2','Tienda 3','Tienda 4','Tienda 5'])\n",
    "df_costes.index = [['Lunes','Martes','Miercoles','Jueves','Viernes','Sabado','Domingo']]\n",
    "\n",
    "print(df_costes)"
   ]
  },
  {
   "cell_type": "code",
   "execution_count": 9,
   "metadata": {},
   "outputs": [
    {
     "name": "stdout",
     "output_type": "stream",
     "text": [
      "           Tienda 1  Tienda 2  Tienda 3  Tienda 4  Tienda 5\n",
      "Lunes           -17       -40         9        51        -8\n",
      "Martes          -20        45        51        54        34\n",
      "Miercoles        32        16         7        40       -27\n",
      "Jueves           59       -10        10       -35        -2\n",
      "Viernes          19         3         6       -30        12\n",
      "Sabado           47       -13       -27       -11       -36\n",
      "Domingo          13         8       -25       -30        59\n"
     ]
    }
   ],
   "source": [
    "array_beneficios = array_ventas - array_costes\n",
    "\n",
    "df_beneficios = pd.DataFrame(array_beneficios,columns=['Tienda 1','Tienda 2','Tienda 3','Tienda 4','Tienda 5'])\n",
    "df_beneficios.index = [['Lunes','Martes','Miercoles','Jueves','Viernes','Sabado','Domingo']]\n",
    "\n",
    "print(df_beneficios)"
   ]
  },
  {
   "cell_type": "code",
   "execution_count": 10,
   "metadata": {},
   "outputs": [
    {
     "name": "stdout",
     "output_type": "stream",
     "text": [
      "El beneficio total de la semana es de 133€ para la tienda Tienda 1\n",
      "El beneficio total de la semana es de 9€ para la tienda Tienda 2\n",
      "El beneficio total de la semana es de 31€ para la tienda Tienda 3\n",
      "El beneficio total de la semana es de 39€ para la tienda Tienda 4\n",
      "El beneficio total de la semana es de 32€ para la tienda Tienda 5\n"
     ]
    }
   ],
   "source": [
    "for beneficio in df_beneficios.columns:\n",
    "    total_beneficio = df_beneficios[beneficio].sum()\n",
    "    \n",
    "    if total_beneficio < 0:\n",
    "        print(f'No hay beneficios esta semana para la tienda {beneficio}')\n",
    "    else:\n",
    "        print(f'El beneficio total de la semana es de {total_beneficio}€ para la tienda {beneficio}')\n",
    "\n",
    "    "
   ]
  },
  {
   "cell_type": "markdown",
   "metadata": {},
   "source": [
    "### Lectura de fichero"
   ]
  },
  {
   "cell_type": "markdown",
   "metadata": {},
   "source": [
    "Lee el fichero de ventas_por_helado y haz una exploración rápida del DataFrame"
   ]
  },
  {
   "cell_type": "code",
   "execution_count": 11,
   "metadata": {},
   "outputs": [
    {
     "data": {
      "text/plain": [
       "(16, 3)"
      ]
     },
     "execution_count": 11,
     "metadata": {},
     "output_type": "execute_result"
    }
   ],
   "source": [
    "ventas_por_helado = pd.read_csv('ventas_por_helado.csv')\n",
    "\n",
    "#Queremos ver las dimensiones de nuestro dataframe\n",
    "ventas_por_helado.shape"
   ]
  },
  {
   "cell_type": "code",
   "execution_count": 12,
   "metadata": {},
   "outputs": [
    {
     "data": {
      "text/html": [
       "<div>\n",
       "<style scoped>\n",
       "    .dataframe tbody tr th:only-of-type {\n",
       "        vertical-align: middle;\n",
       "    }\n",
       "\n",
       "    .dataframe tbody tr th {\n",
       "        vertical-align: top;\n",
       "    }\n",
       "\n",
       "    .dataframe thead th {\n",
       "        text-align: right;\n",
       "    }\n",
       "</style>\n",
       "<table border=\"1\" class=\"dataframe\">\n",
       "  <thead>\n",
       "    <tr style=\"text-align: right;\">\n",
       "      <th></th>\n",
       "      <th>id_producto</th>\n",
       "      <th>ventas_unidades</th>\n",
       "      <th>precio</th>\n",
       "    </tr>\n",
       "  </thead>\n",
       "  <tbody>\n",
       "    <tr>\n",
       "      <th>0</th>\n",
       "      <td>17</td>\n",
       "      <td>998119</td>\n",
       "      <td>1.493301</td>\n",
       "    </tr>\n",
       "    <tr>\n",
       "      <th>1</th>\n",
       "      <td>101</td>\n",
       "      <td>27127</td>\n",
       "      <td>3.848544</td>\n",
       "    </tr>\n",
       "    <tr>\n",
       "      <th>2</th>\n",
       "      <td>240</td>\n",
       "      <td>202538</td>\n",
       "      <td>2.406505</td>\n",
       "    </tr>\n",
       "    <tr>\n",
       "      <th>3</th>\n",
       "      <td>402</td>\n",
       "      <td>266723</td>\n",
       "      <td>2.989612</td>\n",
       "    </tr>\n",
       "    <tr>\n",
       "      <th>4</th>\n",
       "      <td>999</td>\n",
       "      <td>20468</td>\n",
       "      <td>1.859808</td>\n",
       "    </tr>\n",
       "  </tbody>\n",
       "</table>\n",
       "</div>"
      ],
      "text/plain": [
       "   id_producto  ventas_unidades    precio\n",
       "0           17           998119  1.493301\n",
       "1          101            27127  3.848544\n",
       "2          240           202538  2.406505\n",
       "3          402           266723  2.989612\n",
       "4          999            20468  1.859808"
      ]
     },
     "execution_count": 12,
     "metadata": {},
     "output_type": "execute_result"
    }
   ],
   "source": [
    "#Ahora vamos a ver los 5 primeros datos de nuestro dataframe\n",
    "ventas_por_helado.head()"
   ]
  },
  {
   "cell_type": "code",
   "execution_count": 13,
   "metadata": {},
   "outputs": [
    {
     "data": {
      "text/html": [
       "<div>\n",
       "<style scoped>\n",
       "    .dataframe tbody tr th:only-of-type {\n",
       "        vertical-align: middle;\n",
       "    }\n",
       "\n",
       "    .dataframe tbody tr th {\n",
       "        vertical-align: top;\n",
       "    }\n",
       "\n",
       "    .dataframe thead th {\n",
       "        text-align: right;\n",
       "    }\n",
       "</style>\n",
       "<table border=\"1\" class=\"dataframe\">\n",
       "  <thead>\n",
       "    <tr style=\"text-align: right;\">\n",
       "      <th></th>\n",
       "      <th>id_producto</th>\n",
       "      <th>ventas_unidades</th>\n",
       "      <th>precio</th>\n",
       "    </tr>\n",
       "  </thead>\n",
       "  <tbody>\n",
       "    <tr>\n",
       "      <th>11</th>\n",
       "      <td>5684</td>\n",
       "      <td>45269</td>\n",
       "      <td>3.717864</td>\n",
       "    </tr>\n",
       "    <tr>\n",
       "      <th>12</th>\n",
       "      <td>6525</td>\n",
       "      <td>62213</td>\n",
       "      <td>2.357885</td>\n",
       "    </tr>\n",
       "    <tr>\n",
       "      <th>13</th>\n",
       "      <td>7118</td>\n",
       "      <td>4051</td>\n",
       "      <td>2.392222</td>\n",
       "    </tr>\n",
       "    <tr>\n",
       "      <th>14</th>\n",
       "      <td>8689</td>\n",
       "      <td>689257</td>\n",
       "      <td>2.552039</td>\n",
       "    </tr>\n",
       "    <tr>\n",
       "      <th>15</th>\n",
       "      <td>9134</td>\n",
       "      <td>679493</td>\n",
       "      <td>2.391456</td>\n",
       "    </tr>\n",
       "  </tbody>\n",
       "</table>\n",
       "</div>"
      ],
      "text/plain": [
       "    id_producto  ventas_unidades    precio\n",
       "11         5684            45269  3.717864\n",
       "12         6525            62213  2.357885\n",
       "13         7118             4051  2.392222\n",
       "14         8689           689257  2.552039\n",
       "15         9134           679493  2.391456"
      ]
     },
     "execution_count": 13,
     "metadata": {},
     "output_type": "execute_result"
    }
   ],
   "source": [
    "#Ahora vamos a ver los 5 ultimos datos de nuestro dataframe\n",
    "ventas_por_helado.tail()"
   ]
  },
  {
   "cell_type": "code",
   "execution_count": 14,
   "metadata": {},
   "outputs": [
    {
     "data": {
      "text/html": [
       "<div>\n",
       "<style scoped>\n",
       "    .dataframe tbody tr th:only-of-type {\n",
       "        vertical-align: middle;\n",
       "    }\n",
       "\n",
       "    .dataframe tbody tr th {\n",
       "        vertical-align: top;\n",
       "    }\n",
       "\n",
       "    .dataframe thead th {\n",
       "        text-align: right;\n",
       "    }\n",
       "</style>\n",
       "<table border=\"1\" class=\"dataframe\">\n",
       "  <thead>\n",
       "    <tr style=\"text-align: right;\">\n",
       "      <th></th>\n",
       "      <th>id_producto</th>\n",
       "      <th>ventas_unidades</th>\n",
       "      <th>precio</th>\n",
       "    </tr>\n",
       "  </thead>\n",
       "  <tbody>\n",
       "    <tr>\n",
       "      <th>5</th>\n",
       "      <td>2033</td>\n",
       "      <td>209155</td>\n",
       "      <td>2.489806</td>\n",
       "    </tr>\n",
       "    <tr>\n",
       "      <th>10</th>\n",
       "      <td>5019</td>\n",
       "      <td>17401</td>\n",
       "      <td>2.504175</td>\n",
       "    </tr>\n",
       "    <tr>\n",
       "      <th>6</th>\n",
       "      <td>3636</td>\n",
       "      <td>32070</td>\n",
       "      <td>2.601165</td>\n",
       "    </tr>\n",
       "    <tr>\n",
       "      <th>4</th>\n",
       "      <td>999</td>\n",
       "      <td>20468</td>\n",
       "      <td>1.859808</td>\n",
       "    </tr>\n",
       "    <tr>\n",
       "      <th>1</th>\n",
       "      <td>101</td>\n",
       "      <td>27127</td>\n",
       "      <td>3.848544</td>\n",
       "    </tr>\n",
       "  </tbody>\n",
       "</table>\n",
       "</div>"
      ],
      "text/plain": [
       "    id_producto  ventas_unidades    precio\n",
       "5          2033           209155  2.489806\n",
       "10         5019            17401  2.504175\n",
       "6          3636            32070  2.601165\n",
       "4           999            20468  1.859808\n",
       "1           101            27127  3.848544"
      ]
     },
     "execution_count": 14,
     "metadata": {},
     "output_type": "execute_result"
    }
   ],
   "source": [
    "#Ahora vamos a ver los 5 ejemplos aleatorios de nuestro dataframe\n",
    "ventas_por_helado.sample(5)"
   ]
  },
  {
   "cell_type": "code",
   "execution_count": 15,
   "metadata": {},
   "outputs": [
    {
     "data": {
      "text/plain": [
       "id_producto          int64\n",
       "ventas_unidades      int64\n",
       "precio             float64\n",
       "dtype: object"
      ]
     },
     "execution_count": 15,
     "metadata": {},
     "output_type": "execute_result"
    }
   ],
   "source": [
    "#Queremos ver cuales son los tipos de datos de nuestro dataframe\n",
    "ventas_por_helado.dtypes"
   ]
  },
  {
   "cell_type": "code",
   "execution_count": 16,
   "metadata": {},
   "outputs": [
    {
     "data": {
      "text/html": [
       "<div>\n",
       "<style scoped>\n",
       "    .dataframe tbody tr th:only-of-type {\n",
       "        vertical-align: middle;\n",
       "    }\n",
       "\n",
       "    .dataframe tbody tr th {\n",
       "        vertical-align: top;\n",
       "    }\n",
       "\n",
       "    .dataframe thead th {\n",
       "        text-align: right;\n",
       "    }\n",
       "</style>\n",
       "<table border=\"1\" class=\"dataframe\">\n",
       "  <thead>\n",
       "    <tr style=\"text-align: right;\">\n",
       "      <th></th>\n",
       "      <th>id_producto</th>\n",
       "      <th>ventas_unidades</th>\n",
       "      <th>precio</th>\n",
       "    </tr>\n",
       "  </thead>\n",
       "  <tbody>\n",
       "    <tr>\n",
       "      <th>0</th>\n",
       "      <td>False</td>\n",
       "      <td>False</td>\n",
       "      <td>False</td>\n",
       "    </tr>\n",
       "    <tr>\n",
       "      <th>1</th>\n",
       "      <td>False</td>\n",
       "      <td>False</td>\n",
       "      <td>False</td>\n",
       "    </tr>\n",
       "    <tr>\n",
       "      <th>2</th>\n",
       "      <td>False</td>\n",
       "      <td>False</td>\n",
       "      <td>False</td>\n",
       "    </tr>\n",
       "    <tr>\n",
       "      <th>3</th>\n",
       "      <td>False</td>\n",
       "      <td>False</td>\n",
       "      <td>False</td>\n",
       "    </tr>\n",
       "    <tr>\n",
       "      <th>4</th>\n",
       "      <td>False</td>\n",
       "      <td>False</td>\n",
       "      <td>False</td>\n",
       "    </tr>\n",
       "    <tr>\n",
       "      <th>5</th>\n",
       "      <td>False</td>\n",
       "      <td>False</td>\n",
       "      <td>False</td>\n",
       "    </tr>\n",
       "    <tr>\n",
       "      <th>6</th>\n",
       "      <td>False</td>\n",
       "      <td>False</td>\n",
       "      <td>False</td>\n",
       "    </tr>\n",
       "    <tr>\n",
       "      <th>7</th>\n",
       "      <td>False</td>\n",
       "      <td>False</td>\n",
       "      <td>False</td>\n",
       "    </tr>\n",
       "    <tr>\n",
       "      <th>8</th>\n",
       "      <td>False</td>\n",
       "      <td>False</td>\n",
       "      <td>False</td>\n",
       "    </tr>\n",
       "    <tr>\n",
       "      <th>9</th>\n",
       "      <td>False</td>\n",
       "      <td>False</td>\n",
       "      <td>False</td>\n",
       "    </tr>\n",
       "    <tr>\n",
       "      <th>10</th>\n",
       "      <td>False</td>\n",
       "      <td>False</td>\n",
       "      <td>False</td>\n",
       "    </tr>\n",
       "    <tr>\n",
       "      <th>11</th>\n",
       "      <td>False</td>\n",
       "      <td>False</td>\n",
       "      <td>False</td>\n",
       "    </tr>\n",
       "    <tr>\n",
       "      <th>12</th>\n",
       "      <td>False</td>\n",
       "      <td>False</td>\n",
       "      <td>False</td>\n",
       "    </tr>\n",
       "    <tr>\n",
       "      <th>13</th>\n",
       "      <td>False</td>\n",
       "      <td>False</td>\n",
       "      <td>False</td>\n",
       "    </tr>\n",
       "    <tr>\n",
       "      <th>14</th>\n",
       "      <td>False</td>\n",
       "      <td>False</td>\n",
       "      <td>False</td>\n",
       "    </tr>\n",
       "    <tr>\n",
       "      <th>15</th>\n",
       "      <td>False</td>\n",
       "      <td>False</td>\n",
       "      <td>False</td>\n",
       "    </tr>\n",
       "  </tbody>\n",
       "</table>\n",
       "</div>"
      ],
      "text/plain": [
       "    id_producto  ventas_unidades  precio\n",
       "0         False            False   False\n",
       "1         False            False   False\n",
       "2         False            False   False\n",
       "3         False            False   False\n",
       "4         False            False   False\n",
       "5         False            False   False\n",
       "6         False            False   False\n",
       "7         False            False   False\n",
       "8         False            False   False\n",
       "9         False            False   False\n",
       "10        False            False   False\n",
       "11        False            False   False\n",
       "12        False            False   False\n",
       "13        False            False   False\n",
       "14        False            False   False\n",
       "15        False            False   False"
      ]
     },
     "execution_count": 16,
     "metadata": {},
     "output_type": "execute_result"
    }
   ],
   "source": [
    "#Vemos si existen valores nulos en nuestro dataframe\n",
    "ventas_por_helado.isna()"
   ]
  },
  {
   "cell_type": "code",
   "execution_count": 22,
   "metadata": {},
   "outputs": [
    {
     "data": {
      "text/html": [
       "<div>\n",
       "<style scoped>\n",
       "    .dataframe tbody tr th:only-of-type {\n",
       "        vertical-align: middle;\n",
       "    }\n",
       "\n",
       "    .dataframe tbody tr th {\n",
       "        vertical-align: top;\n",
       "    }\n",
       "\n",
       "    .dataframe thead th {\n",
       "        text-align: right;\n",
       "    }\n",
       "</style>\n",
       "<table border=\"1\" class=\"dataframe\">\n",
       "  <thead>\n",
       "    <tr style=\"text-align: right;\">\n",
       "      <th></th>\n",
       "      <th>id_producto</th>\n",
       "      <th>ventas_unidades</th>\n",
       "      <th>precio</th>\n",
       "      <th>total_ventas_euros</th>\n",
       "    </tr>\n",
       "  </thead>\n",
       "  <tbody>\n",
       "    <tr>\n",
       "      <th>count</th>\n",
       "      <td>16.000000</td>\n",
       "      <td>16.00000</td>\n",
       "      <td>16.000000</td>\n",
       "      <td>1.600000e+01</td>\n",
       "    </tr>\n",
       "    <tr>\n",
       "      <th>mean</th>\n",
       "      <td>3962.500000</td>\n",
       "      <td>240504.25000</td>\n",
       "      <td>2.899529</td>\n",
       "      <td>6.403157e+05</td>\n",
       "    </tr>\n",
       "    <tr>\n",
       "      <th>std</th>\n",
       "      <td>3061.347634</td>\n",
       "      <td>304497.61091</td>\n",
       "      <td>1.031506</td>\n",
       "      <td>7.380651e+05</td>\n",
       "    </tr>\n",
       "    <tr>\n",
       "      <th>min</th>\n",
       "      <td>17.000000</td>\n",
       "      <td>4051.00000</td>\n",
       "      <td>1.493301</td>\n",
       "      <td>9.690892e+03</td>\n",
       "    </tr>\n",
       "    <tr>\n",
       "      <th>25%</th>\n",
       "      <td>849.750000</td>\n",
       "      <td>25462.25000</td>\n",
       "      <td>2.392031</td>\n",
       "      <td>7.345831e+04</td>\n",
       "    </tr>\n",
       "    <tr>\n",
       "      <th>50%</th>\n",
       "      <td>4522.500000</td>\n",
       "      <td>96458.50000</td>\n",
       "      <td>2.528107</td>\n",
       "      <td>3.278563e+05</td>\n",
       "    </tr>\n",
       "    <tr>\n",
       "      <th>75%</th>\n",
       "      <td>5894.250000</td>\n",
       "      <td>312294.00000</td>\n",
       "      <td>3.171675</td>\n",
       "      <td>9.706717e+05</td>\n",
       "    </tr>\n",
       "    <tr>\n",
       "      <th>max</th>\n",
       "      <td>9134.000000</td>\n",
       "      <td>998119.00000</td>\n",
       "      <td>5.158462</td>\n",
       "      <td>2.259023e+06</td>\n",
       "    </tr>\n",
       "  </tbody>\n",
       "</table>\n",
       "</div>"
      ],
      "text/plain": [
       "       id_producto  ventas_unidades     precio  total_ventas_euros\n",
       "count    16.000000         16.00000  16.000000        1.600000e+01\n",
       "mean   3962.500000     240504.25000   2.899529        6.403157e+05\n",
       "std    3061.347634     304497.61091   1.031506        7.380651e+05\n",
       "min      17.000000       4051.00000   1.493301        9.690892e+03\n",
       "25%     849.750000      25462.25000   2.392031        7.345831e+04\n",
       "50%    4522.500000      96458.50000   2.528107        3.278563e+05\n",
       "75%    5894.250000     312294.00000   3.171675        9.706717e+05\n",
       "max    9134.000000     998119.00000   5.158462        2.259023e+06"
      ]
     },
     "execution_count": 22,
     "metadata": {},
     "output_type": "execute_result"
    }
   ],
   "source": [
    "ventas_por_helado.describe()"
   ]
  },
  {
   "cell_type": "markdown",
   "metadata": {},
   "source": [
    "### Productos con mucha venta"
   ]
  },
  {
   "cell_type": "markdown",
   "metadata": {},
   "source": [
    "Calcula el número de productos con más de 20000 euros en ventas"
   ]
  },
  {
   "cell_type": "code",
   "execution_count": 18,
   "metadata": {},
   "outputs": [
    {
     "data": {
      "text/html": [
       "<div>\n",
       "<style scoped>\n",
       "    .dataframe tbody tr th:only-of-type {\n",
       "        vertical-align: middle;\n",
       "    }\n",
       "\n",
       "    .dataframe tbody tr th {\n",
       "        vertical-align: top;\n",
       "    }\n",
       "\n",
       "    .dataframe thead th {\n",
       "        text-align: right;\n",
       "    }\n",
       "</style>\n",
       "<table border=\"1\" class=\"dataframe\">\n",
       "  <thead>\n",
       "    <tr style=\"text-align: right;\">\n",
       "      <th></th>\n",
       "      <th>id_producto</th>\n",
       "      <th>ventas_unidades</th>\n",
       "      <th>precio</th>\n",
       "    </tr>\n",
       "  </thead>\n",
       "  <tbody>\n",
       "    <tr>\n",
       "      <th>0</th>\n",
       "      <td>17</td>\n",
       "      <td>998119</td>\n",
       "      <td>1.493301</td>\n",
       "    </tr>\n",
       "    <tr>\n",
       "      <th>1</th>\n",
       "      <td>101</td>\n",
       "      <td>27127</td>\n",
       "      <td>3.848544</td>\n",
       "    </tr>\n",
       "    <tr>\n",
       "      <th>2</th>\n",
       "      <td>240</td>\n",
       "      <td>202538</td>\n",
       "      <td>2.406505</td>\n",
       "    </tr>\n",
       "    <tr>\n",
       "      <th>3</th>\n",
       "      <td>402</td>\n",
       "      <td>266723</td>\n",
       "      <td>2.989612</td>\n",
       "    </tr>\n",
       "    <tr>\n",
       "      <th>4</th>\n",
       "      <td>999</td>\n",
       "      <td>20468</td>\n",
       "      <td>1.859808</td>\n",
       "    </tr>\n",
       "    <tr>\n",
       "      <th>5</th>\n",
       "      <td>2033</td>\n",
       "      <td>209155</td>\n",
       "      <td>2.489806</td>\n",
       "    </tr>\n",
       "    <tr>\n",
       "      <th>6</th>\n",
       "      <td>3636</td>\n",
       "      <td>32070</td>\n",
       "      <td>2.601165</td>\n",
       "    </tr>\n",
       "    <tr>\n",
       "      <th>7</th>\n",
       "      <td>4468</td>\n",
       "      <td>14473</td>\n",
       "      <td>2.598462</td>\n",
       "    </tr>\n",
       "    <tr>\n",
       "      <th>8</th>\n",
       "      <td>4577</td>\n",
       "      <td>130704</td>\n",
       "      <td>5.158462</td>\n",
       "    </tr>\n",
       "    <tr>\n",
       "      <th>9</th>\n",
       "      <td>4758</td>\n",
       "      <td>449007</td>\n",
       "      <td>5.031154</td>\n",
       "    </tr>\n",
       "    <tr>\n",
       "      <th>10</th>\n",
       "      <td>5019</td>\n",
       "      <td>17401</td>\n",
       "      <td>2.504175</td>\n",
       "    </tr>\n",
       "    <tr>\n",
       "      <th>11</th>\n",
       "      <td>5684</td>\n",
       "      <td>45269</td>\n",
       "      <td>3.717864</td>\n",
       "    </tr>\n",
       "    <tr>\n",
       "      <th>12</th>\n",
       "      <td>6525</td>\n",
       "      <td>62213</td>\n",
       "      <td>2.357885</td>\n",
       "    </tr>\n",
       "    <tr>\n",
       "      <th>13</th>\n",
       "      <td>7118</td>\n",
       "      <td>4051</td>\n",
       "      <td>2.392222</td>\n",
       "    </tr>\n",
       "    <tr>\n",
       "      <th>14</th>\n",
       "      <td>8689</td>\n",
       "      <td>689257</td>\n",
       "      <td>2.552039</td>\n",
       "    </tr>\n",
       "    <tr>\n",
       "      <th>15</th>\n",
       "      <td>9134</td>\n",
       "      <td>679493</td>\n",
       "      <td>2.391456</td>\n",
       "    </tr>\n",
       "  </tbody>\n",
       "</table>\n",
       "</div>"
      ],
      "text/plain": [
       "    id_producto  ventas_unidades    precio\n",
       "0            17           998119  1.493301\n",
       "1           101            27127  3.848544\n",
       "2           240           202538  2.406505\n",
       "3           402           266723  2.989612\n",
       "4           999            20468  1.859808\n",
       "5          2033           209155  2.489806\n",
       "6          3636            32070  2.601165\n",
       "7          4468            14473  2.598462\n",
       "8          4577           130704  5.158462\n",
       "9          4758           449007  5.031154\n",
       "10         5019            17401  2.504175\n",
       "11         5684            45269  3.717864\n",
       "12         6525            62213  2.357885\n",
       "13         7118             4051  2.392222\n",
       "14         8689           689257  2.552039\n",
       "15         9134           679493  2.391456"
      ]
     },
     "execution_count": 18,
     "metadata": {},
     "output_type": "execute_result"
    }
   ],
   "source": [
    "ventas_por_helado"
   ]
  },
  {
   "cell_type": "code",
   "execution_count": 19,
   "metadata": {},
   "outputs": [
    {
     "name": "stdout",
     "output_type": "stream",
     "text": [
      "Estos son los productos con ventas superiores a 20,000 euros:\n",
      "    id_producto  ventas_unidades    precio  total_ventas_euros\n",
      "0            17           998119  1.493301        1.490492e+06\n",
      "1           101            27127  3.848544        1.043994e+05\n",
      "2           240           202538  2.406505        4.874087e+05\n",
      "3           402           266723  2.989612        7.973982e+05\n",
      "4           999            20468  1.859808        3.806654e+04\n",
      "5          2033           209155  2.489806        5.207553e+05\n",
      "6          3636            32070  2.601165        8.341936e+04\n",
      "7          4468            14473  2.598462        3.760753e+04\n",
      "8          4577           130704  5.158462        6.742316e+05\n",
      "9          4758           449007  5.031154        2.259023e+06\n",
      "10         5019            17401  2.504175        4.357514e+04\n",
      "11         5684            45269  3.717864        1.683040e+05\n",
      "12         6525            62213  2.357885        1.466911e+05\n",
      "14         8689           689257  2.552039        1.759011e+06\n",
      "15         9134           679493  2.391456        1.624978e+06\n"
     ]
    }
   ],
   "source": [
    "ventas_por_helado['total_ventas_euros'] = ventas_por_helado['ventas_unidades'] * ventas_por_helado['precio']\n",
    "\n",
    "for columna in ventas_por_helado.columns :\n",
    "     if columna == 'total_ventas_euros' :\n",
    "          mas_20000 = ventas_por_helado[ventas_por_helado[columna]>20000]\n",
    "          print(f'Estos son los productos con ventas superiores a 20,000 euros:\\n{mas_20000}')\n",
    "\n",
    "     "
   ]
  }
 ],
 "metadata": {
  "kernelspec": {
   "display_name": "Python 3",
   "language": "python",
   "name": "python3"
  },
  "language_info": {
   "codemirror_mode": {
    "name": "ipython",
    "version": 3
   },
   "file_extension": ".py",
   "mimetype": "text/x-python",
   "name": "python",
   "nbconvert_exporter": "python",
   "pygments_lexer": "ipython3",
   "version": "3.9.13"
  }
 },
 "nbformat": 4,
 "nbformat_minor": 2
}
