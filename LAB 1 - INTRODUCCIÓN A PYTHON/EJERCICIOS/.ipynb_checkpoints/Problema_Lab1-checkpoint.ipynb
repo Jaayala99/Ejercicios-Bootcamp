{
 "cells": [
  {
   "cell_type": "markdown",
   "metadata": {},
   "source": [
    "### Bienvenido a IceCream Avenue"
   ]
  },
  {
   "cell_type": "markdown",
   "metadata": {},
   "source": [
    "Bienvenido a _Ice Cream Avenue_. Comenzarás tu prueba aquí calculando los precios de los helados. Si el cono vale 0.5€, ,la bola de helado vale 2€, y cada topping 0.25€, calcula el precio de un helado de cono con 2 bolas y 3 toppings. Para ello, define variables en Python y aplica operaciones numéricas entre ellas"
   ]
  },
  {
   "cell_type": "code",
   "execution_count": 3,
   "metadata": {},
   "outputs": [
    {
     "data": {
      "text/plain": [
       "'El helado completo con 2 bolas y 3 toppings seria de 5.25€'"
      ]
     },
     "execution_count": 3,
     "metadata": {},
     "output_type": "execute_result"
    }
   ],
   "source": [
    "# Definimos varaibles para cono , helado y toppings\n",
    "cono = 0.5\n",
    "bola_helado = 2\n",
    "topping = 0.25\n",
    "# Calculamos el precio de un helado de cono con 2 bolas y 3 toppings\n",
    "numero_bolas = 2\n",
    "numero_toppings = 3\n",
    "f'El helado completo con {numero_bolas} bolas y {numero_toppings} toppings seria de {cono+(bola_helado*numero_bolas)+(topping*numero_toppings)}€'"
   ]
  },
  {
   "cell_type": "markdown",
   "metadata": {},
   "source": [
    "### Reemplazar caracteres"
   ]
  },
  {
   "cell_type": "markdown",
   "metadata": {},
   "source": [
    "_Ice Cream Avenue_ ha cambiado su logotipo y ahora quiere que todos los nombres de los helados empiecen por mayúscula y que las \"o\" se reemplacen por \"0\". Escribe un programa que reciba el nombre de un helado y devuelva el nombre modificado."
   ]
  },
  {
   "cell_type": "code",
   "execution_count": 46,
   "metadata": {},
   "outputs": [
    {
     "data": {
      "text/plain": [
       "'Helad0'"
      ]
     },
     "execution_count": 46,
     "metadata": {},
     "output_type": "execute_result"
    }
   ],
   "source": [
    "nombre_helado = 'helado' #Creamos la variable nombre_helado que la pasaremos por parametro a la función creada cambiar_nombre donde realizaremos los cambios a los nombre de cada helado\n",
    "def cambiar_nombre(nombre_helado):\n",
    "        nombre_helado = nombre_helado.capitalize() #Utilizamos la función capitalize() para convertir la primera letra de un String a Mayusculas\n",
    "        nombre_helado = nombre_helado.replace(\"o\",\"0\") #Usamos la funcion Replace() para reemplazar los caracteres indicados\n",
    "        return nombre_helado\n",
    "    \n",
    "cambiar_nombre(nombre_helado)\n",
    "    "
   ]
  },
  {
   "cell_type": "markdown",
   "metadata": {
    "ExecuteTime": {
     "end_time": "2023-04-28T18:24:39.243559Z",
     "start_time": "2023-04-28T18:24:39.219559Z"
    }
   },
   "source": [
    "### Al revés"
   ]
  },
  {
   "cell_type": "markdown",
   "metadata": {
    "ExecuteTime": {
     "end_time": "2023-04-28T18:24:39.243559Z",
     "start_time": "2023-04-28T18:24:39.219559Z"
    }
   },
   "source": [
    "Por alguna extraña estrategia de marketing, _Ice Cream Avenue_ quiere escribir el nombre de sus helados al revés. Escribe un programa que reciba el nombre de un helado y lo imprima al revés."
   ]
  },
  {
   "cell_type": "code",
   "execution_count": 208,
   "metadata": {},
   "outputs": [
    {
     "data": {
      "text/plain": [
       "'La palabra helado al revés es odaleh'"
      ]
     },
     "execution_count": 208,
     "metadata": {},
     "output_type": "execute_result"
    }
   ],
   "source": [
    "nombre_helado = 'helado' #Creamos la variable nombre_helado que la pasaremos por parametro a la función creada nombre_reves donde realizaremos los cambios a los nombre de cada helado\n",
    "def nombre_reves(nombre_helado):\n",
    "    return f'La palabra {nombre_helado} al revés es {nombre_helado [:: -1]}' #Usamos el metodo slice donde le indicamos el indice -1 para iniciar desde el ultimo digito \n",
    "nombre_reves(nombre_helado)"
   ]
  },
  {
   "cell_type": "markdown",
   "metadata": {},
   "source": [
    "### Contar vocales"
   ]
  },
  {
   "cell_type": "markdown",
   "metadata": {},
   "source": [
    "_Ice Cream Avenue_ quiere saber cuántas vocales hay en el nombre de cada helado para colorearlas en sus carteles. Escribe una función llamada contar_vocales que reciba un parámetro: el nombre de un helado, y que devuelva el número de vocales que contiene."
   ]
  },
  {
   "cell_type": "code",
   "execution_count": 207,
   "metadata": {},
   "outputs": [
    {
     "data": {
      "text/plain": [
       "'La palabra Helado contiene 3 vocales'"
      ]
     },
     "execution_count": 207,
     "metadata": {},
     "output_type": "execute_result"
    }
   ],
   "source": [
    "nombre_helado = 'Helado' #Creamos la variable nombre_helado que la pasaremos por parametro a la función creada vocales_nombre donde contaremos las vocales\n",
    "def vocales_nombre(nombre_helado):\n",
    "    cont = 0 #Inicializamos un contador dandole valor 0 \n",
    "    for letra in nombre_helado : # Recorremos nombre_helado utilizando un for y posteriormente añadimos un condicional en el que si encuentra una vocal ya sea mayuscula o minuscula el contador sume 1\n",
    "        if letra in 'aAeEiIoOuU' :\n",
    "            cont += 1\n",
    "    return f'La palabra {nombre_helado} contiene {cont} vocales'\n",
    "     \n",
    "vocales_nombre(nombre_helado)"
   ]
  },
  {
   "cell_type": "markdown",
   "metadata": {},
   "source": [
    "### Descuento por cantidad de productos"
   ]
  },
  {
   "cell_type": "markdown",
   "metadata": {},
   "source": [
    "En _Ice Cream Avenue_ se quiere implementar una política de descuentos para sus clientes. Si un cliente compra más de 5 helados, se le aplicará un descuento del 20% en el total de la compra, y si compra entre 3 y 5 helados, el descuento aplicado será del 10%. Si compra menos de 3 helados, no se le aplicará ningún descuento. \n",
    "Sabiendo que el precio de los helados es de 3€, escribe una función que reciba el número de helados y calcule el precio total de la compra con el descuento correspondiente. Prueba el correcto funcionamiento haciendo una llamada a la función con algún ejemplo"
   ]
  },
  {
   "cell_type": "code",
   "execution_count": 276,
   "metadata": {},
   "outputs": [
    {
     "data": {
      "text/plain": [
       "'Si has comprado 7 helados se te aplicara un descuento del 20% y el precio se queda en 20.8€'"
      ]
     },
     "execution_count": 276,
     "metadata": {},
     "output_type": "execute_result"
    }
   ],
   "source": [
    "def descuento (total_compras) :\n",
    "    precio_helado = 3 # Establecemos el precio cerrado de cada helado a 3€\n",
    "    precio_sin_descuento = precio_helado*total_compras # Calculamos el precio total sin el descuento y lo guardamos en una variable llamada precio_sin_descuento\n",
    "    if total_compras > 5 :\n",
    "        descuento = 20/100\n",
    "    elif total_compras >=3 and total_compras <=5 :            # Establecemos una serie de condicionales para cada numero de ventas y definimos cada descuento \n",
    "        descuento = 10/100\n",
    "    else :\n",
    "        descuento = 0\n",
    "        \n",
    "    precio_con_descuento = precio_sin_descuento - descuento  # Aplicamos el descuento a la variable anteriormente creada restando el descuento a cada precio\n",
    "    return  f'Si has comprado {total_compras} helados se te aplicara un descuento del {int(descuento*100)}% y el precio se queda en {precio_con_descuento}€'\n",
    "\n",
    "descuento(7)\n"
   ]
  },
  {
   "cell_type": "markdown",
   "metadata": {},
   "source": [
    "### Encontrar la palabra más larga"
   ]
  },
  {
   "cell_type": "markdown",
   "metadata": {},
   "source": [
    "La empresa 'Ice Cream Avenue' quiere saber cuál es la palabra más larga en los nombres de sus helados. Escribe una función que reciba una lista de nombres de helados y devuelva la palabra más larga."
   ]
  },
  {
   "cell_type": "code",
   "execution_count": 184,
   "metadata": {},
   "outputs": [
    {
     "data": {
      "text/plain": [
       "'El nombre mas largo de la lista de helados es : helado de platano'"
      ]
     },
     "execution_count": 184,
     "metadata": {},
     "output_type": "execute_result"
    }
   ],
   "source": [
    "helados = ['cono' , 'maxibon' , 'helado de platano' , 'frigopie']\n",
    "def nombre_largo(helados) :\n",
    "    nombre=\"\"                                                        \n",
    "    for mas_largo in helados : \n",
    "            if len(mas_largo) > len(nombre) :                   \n",
    "                nombre = mas_largo                              \n",
    "    return f'El nombre mas largo de la lista de helados es : {nombre}'\n",
    "    \n",
    "nombre_largo(helados)\n",
    "\n",
    "#En este ejercicio recorremos con un for la lista de helados, creamos una variable llamada nombre y la igualamos a un String vacío\n",
    "#creamos una condicion que vaya comparando nuestra longitud de indice del for con la longitud de la varaible nombre y si es mayor pues guarde el valor de nuestro indice en\n",
    "#nuestra variable nombre"
   ]
  },
  {
   "cell_type": "markdown",
   "metadata": {},
   "source": [
    "### Sabor con más ventas"
   ]
  },
  {
   "cell_type": "markdown",
   "metadata": {},
   "source": [
    "Escribe una función que reciba un número variable de parametros que indiquen diferentes sabores, cuyos respectivos valores sean las ventas de esos sabores. La función debe devolvernos cuál es el sabor con más ventas, y el número de ventas"
   ]
  },
  {
   "cell_type": "code",
   "execution_count": 187,
   "metadata": {},
   "outputs": [
    {
     "data": {
      "text/plain": [
       "'El sabor con más ventas es chocolate con unas ventas de 7'"
      ]
     },
     "execution_count": 187,
     "metadata": {},
     "output_type": "execute_result"
    }
   ],
   "source": [
    "def sabores (**kwargs) :\n",
    "    ventas_helado = 0 \n",
    "    for ventas in kwargs :\n",
    "        if kwargs[ventas] > ventas_helado :\n",
    "            ventas_helado = kwargs[ventas]\n",
    "            sabor_helado = ventas\n",
    "    return f'El sabor con más ventas es {sabor_helado} con unas ventas de {ventas_helado}'\n",
    "\n",
    "sabores (nata = 4 , chocolate = 7 , turron = 5 , vainilla = 6 )\n",
    "\n",
    "#En este ejercicio utilizamos los kwargs ya que los parametros con los que trabajaremos sera una lista en la que cada elemento\n",
    "#tendrá asociado un valor, recorremos esta lista con un for y utilizaremos la lógica del ejercicio anterior, crearemos una variable y la igualaremos a 0\n",
    "#ya que esta vez compararemos numeros y no cadenas, con un condicional extraemos cual es el helado con el mayor numero de ventas y lo guardamos en la variable\n",
    "#ventas_helado, de este modo a la hora de imprimir el return, sabor_helad sera la key de la lista y ventas_helado será el valoe de esta key"
   ]
  },
  {
   "cell_type": "markdown",
   "metadata": {},
   "source": [
    "### Crear descuentos"
   ]
  },
  {
   "cell_type": "markdown",
   "metadata": {},
   "source": [
    "Define una función llamada crear_descuento que tome como parámetro una palabra y un porcentaje de descuento, y cree un string con la palabra en mayúsculas seguida del descuento en tanto por ciento. Por ejemplo, con los valores de parámetros helados y 0.5 debe devolver HELADOS50. El porcentaje de descuento debe ser un float mayor que 0 y menor que 1, de lo contrario la función debe levantar una excepción DiscountError indicando que el porcentaje de descuento no es válido. Utiliza un bloque try-except para manejar otras excepciones."
   ]
  },
  {
   "cell_type": "code",
   "execution_count": 196,
   "metadata": {},
   "outputs": [
    {
     "data": {
      "text/plain": [
       "'PERA10'"
      ]
     },
     "execution_count": 196,
     "metadata": {},
     "output_type": "execute_result"
    }
   ],
   "source": [
    "def crear_descuento(palabra, porcentaje):\n",
    "    try:\n",
    "        if not isinstance(palabra,str):\n",
    "            raise Exception(\"El dato introducido no es un String\")\n",
    "            \n",
    "        if  porcentaje > 0 and porcentaje < 1:\n",
    "            porcentaje *= 100\n",
    "            return f\"{palabra.upper()}{int(porcentaje)}\"\n",
    "        else:\n",
    "            raise ValueError(\"El porcentaje de descuento debe ser mayor que 0 y menor que 1\")\n",
    "            \n",
    "            \n",
    "    except ValueError as desc:\n",
    "        return f\"DiscountError: {desc}\"\n",
    "    except Exception as e:\n",
    "        return f\"typeError:{e}\"\n",
    "\n",
    "crear_descuento('pera',0.1)\n",
    "\n",
    "#En este ejercicio creamos una funcion que recibe dos parametros, utilizamos bloques try-except ya que manejaremos excepciones\n",
    "#dentro del bloque try encontraremos todo nuestro codigo que se compone de varios condicionales, uno de ellos es isintance() que comprueba si\n",
    "#la palabra es un string ya que será obligatorio para que nuestra función tenga sentido, el siguiente condicional comprueba que el numero introducido\n",
    "#sea mayor que 0 y menor que 1. En los bloques except es donde manejaremos nuestras excepciones devolviendo cada una de ellas con los textos introducidos en\n",
    "#cada uno de los condicionales."
   ]
  }
 ],
 "metadata": {
  "kernelspec": {
   "display_name": "Python 3 (ipykernel)",
   "language": "python",
   "name": "python3"
  },
  "language_info": {
   "codemirror_mode": {
    "name": "ipython",
    "version": 3
   },
   "file_extension": ".py",
   "mimetype": "text/x-python",
   "name": "python",
   "nbconvert_exporter": "python",
   "pygments_lexer": "ipython3",
   "version": "3.12.1"
  }
 },
 "nbformat": 4,
 "nbformat_minor": 4
}
